{
 "cells": [
  {
   "cell_type": "code",
   "execution_count": 31,
   "metadata": {},
   "outputs": [],
   "source": [
    "import re\n",
    "import os\n",
    "import pandas as pd\n",
    "from fuzzywuzzy import fuzz\n",
    "from math import sin, cos, sqrt, atan2, radians"
   ]
  },
  {
   "cell_type": "code",
   "execution_count": 39,
   "metadata": {},
   "outputs": [],
   "source": [
    "d=hmis['district'].unique()\n",
    "\n",
    "df = pd.read_csv('./Data/google_w_st_dist_9545.csv')\n",
    "\n",
    "dd=[]\n",
    "for i in df.iterrows():\n",
    "    \n",
    "    a1=i[1][-2]\n",
    "    for j in d:\n",
    "        a2=j.lower()\n",
    "        if a1.lower()==a2:\n",
    "            dd.append((i[0],j))\n",
    "            break\n",
    "    \n",
    "            \n",
    "\n",
    "S=pd.Series([x[1] for x in dd],index=[x[0] for x in dd])\n",
    "\n",
    "df1=df.loc[S.index]\n",
    "\n",
    "df1['district']=S\n",
    "\n",
    "df2=df1.reset_index(drop=True)\n",
    "\n",
    "df2.to_csv('./Data/google_w_st_dist_8283.csv',index=False)\n",
    "\n",
    "df1 = pd.read_csv('./Data/hospitals_prod.csv')\n",
    "df1 = hos_prod.loc[hos_prod['source'] == 'HMIS']\n",
    "\n",
    "df2 = pd.read_csv('./Data/google_w_st_dist_8283.csv')\n",
    "\n",
    "dis = list(df1['district'].unique())\n",
    "\n",
    "for i in dis:\n",
    "    d1=df1[df1['district']==i]\n",
    "    d2=df2[df2['district']==i]\n",
    "    if d2.shape[0]==0:\n",
    "        continue\n",
    "    else:\n",
    "        print(d1['name_add'])\n",
    "        print(d2['name_add'])\n",
    "        break"
   ]
  },
  {
   "cell_type": "markdown",
   "metadata": {},
   "source": [
    "## Cross  Product"
   ]
  },
  {
   "cell_type": "code",
   "execution_count": 26,
   "metadata": {},
   "outputs": [],
   "source": [
    "def unique(sequence):\n",
    "    \n",
    "    seen = set()\n",
    "    return [x for x in sequence if not (x in seen or seen.add(x))]\n",
    "\n",
    "def preprocess(text):\n",
    "    \n",
    "    text = re.sub('[^a-zA-Z0-9 ]','',text)\n",
    "    text = ' '.join(unique(text.upper().split()))\n",
    "    return text.strip()\n",
    "\n",
    "def distance_calculator(long1, lat1 ,long2, lat2):\n",
    "    \n",
    "    R = 6373.0\n",
    "    lat1 = radians(lat1)\n",
    "    lon1 = radians(long1)\n",
    "    lat2 = radians(lat2)\n",
    "    lon2 = radians(long2)\n",
    "    dlon = lon2 - lon1\n",
    "    dlat = lat2 - lat1\n",
    "    a = sin(dlat / 2)**2 + cos(lat1) * cos(lat2) * sin(dlon / 2)**2\n",
    "    c = 2 * atan2(sqrt(a), sqrt(1 - a))\n",
    "    distance = R * c\n",
    "    return distance\n",
    "\n",
    "def scores(string1,string2):\n",
    "    \n",
    "    ratio = fuzz.ratio(string1,string2)\n",
    "    tokenset_ratio = fuzz.token_set_ratio(string1,string2)    \n",
    "    tokensort_ratio = fuzz.token_sort_ratio(string1,string2)    \n",
    "    partial_ratio = fuzz.partial_ratio(string1,string2)  \n",
    "    total = sum([ratio,tokenset_ratio,tokensort_ratio,partial_ratio])\n",
    "    return ratio,tokenset_ratio,tokensort_ratio,partial_ratio,total"
   ]
  },
  {
   "cell_type": "markdown",
   "metadata": {},
   "source": [
    "### Data Pre Processing"
   ]
  },
  {
   "cell_type": "code",
   "execution_count": 14,
   "metadata": {
    "collapsed": true,
    "jupyter": {
     "outputs_hidden": true
    }
   },
   "outputs": [
    {
     "name": "stderr",
     "output_type": "stream",
     "text": [
      "/home/Documents/karuna/Transliterate/Data/venv/lib/python3.6/site-packages/IPython/core/interactiveshell.py:3072: DtypeWarning: Columns (22,36) have mixed types.Specify dtype option on import or set low_memory=False.\n",
      "  interactivity=interactivity, compiler=compiler, result=result)\n",
      "/home/Documents/karuna/Transliterate/Data/venv/lib/python3.6/site-packages/ipykernel_launcher.py:3: SettingWithCopyWarning: \n",
      "A value is trying to be set on a copy of a slice from a DataFrame.\n",
      "Try using .loc[row_indexer,col_indexer] = value instead\n",
      "\n",
      "See the caveats in the documentation: https://pandas.pydata.org/pandas-docs/stable/user_guide/indexing.html#returning-a-view-versus-a-copy\n",
      "  This is separate from the ipykernel package so we can avoid doing imports until\n",
      "/home/Documents/karuna/Transliterate/Data/venv/lib/python3.6/site-packages/ipykernel_launcher.py:4: SettingWithCopyWarning: \n",
      "A value is trying to be set on a copy of a slice from a DataFrame.\n",
      "Try using .loc[row_indexer,col_indexer] = value instead\n",
      "\n",
      "See the caveats in the documentation: https://pandas.pydata.org/pandas-docs/stable/user_guide/indexing.html#returning-a-view-versus-a-copy\n",
      "  after removing the cwd from sys.path.\n",
      "/home/Documents/karuna/Transliterate/Data/venv/lib64/python3.6/site-packages/pandas/core/series.py:4523: SettingWithCopyWarning: \n",
      "A value is trying to be set on a copy of a slice from a DataFrame\n",
      "\n",
      "See the caveats in the documentation: https://pandas.pydata.org/pandas-docs/stable/user_guide/indexing.html#returning-a-view-versus-a-copy\n",
      "  downcast=downcast,\n",
      "/home/Documents/karuna/Transliterate/Data/venv/lib/python3.6/site-packages/ipykernel_launcher.py:7: SettingWithCopyWarning: \n",
      "A value is trying to be set on a copy of a slice from a DataFrame.\n",
      "Try using .loc[row_indexer,col_indexer] = value instead\n",
      "\n",
      "See the caveats in the documentation: https://pandas.pydata.org/pandas-docs/stable/user_guide/indexing.html#returning-a-view-versus-a-copy\n",
      "  import sys\n",
      "/home/Documents/karuna/Transliterate/Data/venv/lib/python3.6/site-packages/ipykernel_launcher.py:8: SettingWithCopyWarning: \n",
      "A value is trying to be set on a copy of a slice from a DataFrame.\n",
      "Try using .loc[row_indexer,col_indexer] = value instead\n",
      "\n",
      "See the caveats in the documentation: https://pandas.pydata.org/pandas-docs/stable/user_guide/indexing.html#returning-a-view-versus-a-copy\n",
      "  \n",
      "/home/Documents/karuna/Transliterate/Data/venv/lib/python3.6/site-packages/ipykernel_launcher.py:9: SettingWithCopyWarning: \n",
      "A value is trying to be set on a copy of a slice from a DataFrame.\n",
      "Try using .loc[row_indexer,col_indexer] = value instead\n",
      "\n",
      "See the caveats in the documentation: https://pandas.pydata.org/pandas-docs/stable/user_guide/indexing.html#returning-a-view-versus-a-copy\n",
      "  if __name__ == '__main__':\n"
     ]
    }
   ],
   "source": [
    "hos_prod = pd.read_csv('./Data/hospitals_prod.csv')\n",
    "hmis = hos_prod.loc[hos_prod['source'] == 'HMIS']\n",
    "hmis['state'] = hmis['state'].str.lower().str.strip()\n",
    "hmis['district'] = hmis['district'].str.lower().str.strip()\n",
    "hmis['name'].fillna('-',inplace = True)\n",
    "hmis['address'].fillna('-',inplace = True)\n",
    "hmis['name'] = hmis['name'].str.lower().str.strip()\n",
    "hmis['address'] = hmis['address'].str.lower().str.strip()\n",
    "hmis['name_add_hmis'] = hmis[['name','address']].apply(lambda x: preprocess(' '.join(x.dropna().astype(str))),axis=1)\n",
    "hmis = hmis.rename(columns = {'name':'name_hmis','address':'address_hmis','hospital_id':'hmis_id','lat':'lat_hmis',\n",
    "                              'lng':'lng_hmis'})\n",
    "hmis.replace({'state':{'dadra & nagar haveli':'the dadra and nagar haveli and daman and diu',\n",
    "                       'daman & diu':'the dadra and nagar haveli and daman and diu' }},inplace = True)\n",
    "\n",
    "hmis_ = hmis[['name_hmis','address_hmis','name_add_hmis','hmis_id','district','state','lat_hmis','lng_hmis']]"
   ]
  },
  {
   "cell_type": "code",
   "execution_count": 24,
   "metadata": {},
   "outputs": [],
   "source": [
    "google_st_dist = pd.read_csv('./Data/google_w_st_dist_8283.csv')\n",
    "google_hmis = pd.read_csv('./Data/google_in_hmis_format.csv')\n",
    "google = google_st_dist.merge(google_hmis[['hospital_id','lat','lng']], on = 'hospital_id')\n",
    "google['name'].fillna('-',inplace = True)\n",
    "google['address'].fillna('-',inplace = True)\n",
    "google['state'] = google['state'].str.lower().str.strip()\n",
    "google['district'] = google['district'].str.lower().str.strip()\n",
    "google['name'] = google['name'].str.lower().str.strip()\n",
    "google['address'] = google['address'].str.lower().str.strip()\n",
    "\n",
    "google = google.rename(columns = {'name_add':'name_add_google','name':'name_google','address':'address_google',\n",
    "                                  'hospital_id':'google_id','lat':'lat_google','lng':'lng_google'})\n",
    "google.replace({'state':{'jammu and kashmir':'jammu & kashmir'}},inplace = True)\n",
    "\n",
    "google_ = google[['name_google','address_google','name_add_google','google_id','district','state','lat_google','lng_google']]"
   ]
  },
  {
   "cell_type": "markdown",
   "metadata": {},
   "source": [
    "### Scores and Distance Calculation on Siatrict filtered rows"
   ]
  },
  {
   "cell_type": "code",
   "execution_count": 34,
   "metadata": {},
   "outputs": [
    {
     "name": "stdout",
     "output_type": "stream",
     "text": [
      "State:  himachal pradesh \tDistrict:  solan\n",
      "Google:  (7, 9) \tHMIS:  (224, 9) \tCrossproduct:  (1568, 17)\n"
     ]
    },
    {
     "name": "stderr",
     "output_type": "stream",
     "text": [
      "/home/Documents/karuna/Transliterate/Data/venv/lib/python3.6/site-packages/ipykernel_launcher.py:26: SettingWithCopyWarning: \n",
      "A value is trying to be set on a copy of a slice from a DataFrame.\n",
      "Try using .loc[row_indexer,col_indexer] = value instead\n",
      "\n",
      "See the caveats in the documentation: https://pandas.pydata.org/pandas-docs/stable/user_guide/indexing.html#returning-a-view-versus-a-copy\n",
      "/home/Documents/karuna/Transliterate/Data/venv/lib/python3.6/site-packages/ipykernel_launcher.py:27: SettingWithCopyWarning: \n",
      "A value is trying to be set on a copy of a slice from a DataFrame.\n",
      "Try using .loc[row_indexer,col_indexer] = value instead\n",
      "\n",
      "See the caveats in the documentation: https://pandas.pydata.org/pandas-docs/stable/user_guide/indexing.html#returning-a-view-versus-a-copy\n"
     ]
    },
    {
     "name": "stdout",
     "output_type": "stream",
     "text": [
      "State:  himachal pradesh \tDistrict:  mandi\n",
      "Google:  (232, 9) \tHMIS:  (392, 9) \tCrossproduct:  (90944, 17)\n",
      "State:  himachal pradesh \tDistrict:  bilaspur\n",
      "Google:  (29, 9) \tHMIS:  (160, 9) \tCrossproduct:  (4640, 17)\n",
      "State:  himachal pradesh \tDistrict:  kullu\n",
      "Google:  (2, 9) \tHMIS:  (122, 9) \tCrossproduct:  (244, 17)\n",
      "State:  himachal pradesh \tDistrict:  una\n",
      "Google:  (363, 9) \tHMIS:  (156, 9) \tCrossproduct:  (56628, 17)\n",
      "State:  himachal pradesh \tDistrict:  shimla\n",
      "Google:  (13, 9) \tHMIS:  (338, 9) \tCrossproduct:  (4394, 17)\n",
      "State:  himachal pradesh \tDistrict:  chamba\n",
      "Google:  (7, 9) \tHMIS:  (227, 9) \tCrossproduct:  (1589, 17)\n",
      "State:  himachal pradesh \tDistrict:  kangra\n",
      "Google:  (6, 9) \tHMIS:  (528, 9) \tCrossproduct:  (3168, 17)\n",
      "State:  himachal pradesh \tDistrict:  hamirpur\n",
      "Google:  (11, 9) \tHMIS:  (182, 9) \tCrossproduct:  (2002, 17)\n"
     ]
    }
   ],
   "source": [
    "google_s_grp = google_.groupby('state')\n",
    "hmis_s_grp = hmis_.groupby('state')\n",
    "state_list = ['himachal pradesh']\n",
    "\n",
    "for s in state_list:\n",
    "    \n",
    "    if os.path.isdir('./Data/States/'+s) is False:\n",
    "        os.mkdir('./Data/States/'+s)\n",
    "    \n",
    "    st_google = google_s_grp.get_group(s)\n",
    "    st_hmis = hmis_s_grp.get_group(s)\n",
    "    \n",
    "    google_d_grp = st_google.groupby('district')\n",
    "    hmis_d_grp = st_hmis.groupby('district')\n",
    "    \n",
    "    district_list = set(list(st_google['district'].unique())).intersection(set(list(st_hmis['district'].unique())))\n",
    "    \n",
    "    for d in district_list:\n",
    "        \n",
    "        print('State: ',s,'\\tDistrict: ',d)\n",
    "        if os.path.exists('./'+s+'/'+d+'.csv'):\n",
    "            continue\n",
    "        d_google = google_d_grp.get_group(d)\n",
    "        d_hmis = hmis_d_grp.get_group(d)\n",
    "            \n",
    "        d_google['key'] = 0\n",
    "        d_hmis['key'] = 0\n",
    "\n",
    "        dfcross = d_google.merge(d_hmis,on = 'key',sort=True)\n",
    "        print('Google: ',d_google.shape,'\\tHMIS: ',d_hmis.shape,'\\tCrossproduct: ',dfcross.shape)\n",
    "        \n",
    "        dfcross[['ratio','tokenset_ratio','tokensort_ratio','partial_ratio','total_score']] = dfcross.apply(lambda s:\n",
    "                                                    pd.Series(scores(s['name_add_hmis'],s['name_add_google'])),axis = 1)\n",
    "        dfcross[['ratio','tokenset_ratio','tokensort_ratio','partial_ratio','total_score']] = dfcross.apply(lambda s:\n",
    "                                                    pd.Series(scores(s['name_hmis'],s['name_google'])),axis = 1)\n",
    "        dfcross[['ratio','tokenset_ratio','tokensort_ratio','partial_ratio','total_score']] = dfcross.apply(lambda s:\n",
    "                                                    pd.Series(scores(s['address_hmis'],s['address_google'])),axis = 1)\n",
    "        dfcross['distance'] = dfcross.apply(lambda r: distance_calculator(r['lng_google'],r['lat_google'],\n",
    "                                                                    r['lng_hmis'],r['lat_hmis']),axis = 1)\n",
    "\n",
    "        dfcross.to_csv('./Data/States/'+s+'/'+d+'.csv',index = False)"
   ]
  },
  {
   "cell_type": "code",
   "execution_count": null,
   "metadata": {},
   "outputs": [],
   "source": []
  }
 ],
 "metadata": {
  "kernelspec": {
   "display_name": "Python 3",
   "language": "python",
   "name": "python3"
  },
  "language_info": {
   "codemirror_mode": {
    "name": "ipython",
    "version": 3
   },
   "file_extension": ".py",
   "mimetype": "text/x-python",
   "name": "python",
   "nbconvert_exporter": "python",
   "pygments_lexer": "ipython3",
   "version": "3.8.5"
  }
 },
 "nbformat": 4,
 "nbformat_minor": 4
}
